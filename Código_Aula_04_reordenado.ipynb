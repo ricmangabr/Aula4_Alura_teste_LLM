{
  "cells": [
    {
      "cell_type": "markdown",
      "metadata": {
        "id": "view-in-github",
        "colab_type": "text"
      },
      "source": [
        "<a href=\"https://colab.research.google.com/github/ricmangabr/Aula4_Alura_teste_LLM/blob/main/C%C3%B3digo_Aula_04_reordenado.ipynb\" target=\"_parent\"><img src=\"https://colab.research.google.com/assets/colab-badge.svg\" alt=\"Open In Colab\"/></a>"
      ]
    },
    {
      "cell_type": "code",
      "execution_count": null,
      "metadata": {
        "id": "nFQLKQ6hfXch"
      },
      "outputs": [],
      "source": [
        "#Instalando o SDK do Google\n",
        "!pip install -q -U google-generativeai"
      ]
    },
    {
      "cell_type": "code",
      "execution_count": null,
      "metadata": {
        "id": "IthzwfnAfcsi"
      },
      "outputs": [],
      "source": [
        "#Configurações iniciais\n",
        "import google.generativeai as genai\n",
        "# inserindo a apy key de forma \"secreta\"\n",
        "from google.colab import userdata\n",
        "api_key = userdata.get(\"secret_key\")\n",
        "\n",
        "genai.configure(api_key=apy_key)"
      ]
    },
    {
      "cell_type": "code",
      "execution_count": null,
      "metadata": {
        "colab": {
          "base_uri": "https://localhost:8080/",
          "height": 139
        },
        "id": "iD3ihugymWBt",
        "outputId": "5d09a644-9048-46d2-f793-cd550c7a5850"
      },
      "outputs": [
        {
          "output_type": "stream",
          "name": "stdout",
          "text": [
            "models/gemini-1.0-pro\n",
            "models/gemini-1.0-pro-001\n",
            "models/gemini-1.0-pro-latest\n",
            "models/gemini-1.0-pro-vision-latest\n",
            "models/gemini-1.5-pro-latest\n",
            "models/gemini-pro\n",
            "models/gemini-pro-vision\n"
          ]
        }
      ],
      "source": [
        "#Listando os modelos disponíveis\n",
        "for m in genai.list_models():\n",
        "  if 'generateContent' in m.supported_generation_methods:\n",
        "    print(m.name)"
      ]
    },
    {
      "cell_type": "code",
      "execution_count": null,
      "metadata": {
        "id": "O1ochaeyDn_o"
      },
      "outputs": [],
      "source": [
        "generation_config = {\n",
        "  \"candidate_count\": 1,\n",
        "  \"temperature\": 0.5,\n",
        "}\n",
        "\n",
        "# candidate_count: número de respostas aceitas\n",
        "#temperature: variabilidade aceita"
      ]
    },
    {
      "cell_type": "code",
      "execution_count": null,
      "metadata": {
        "id": "jwBv7DofDofw"
      },
      "outputs": [],
      "source": [
        "safety_settings={\n",
        "    'HATE': 'BLOCK_NONE',\n",
        "    'HARASSMENT': 'BLOCK_NONE',\n",
        "    'SEXUAL' : 'BLOCK_NONE',\n",
        "    'DANGEROUS' : 'BLOCK_NONE'\n",
        "    }\n",
        "    # Observação: se não se intenta modificar os padrões destas configurações, não é necessário definir esta variável com estes parâmetros"
      ]
    },
    {
      "cell_type": "markdown",
      "source": [
        "Inicializando o modelo"
      ],
      "metadata": {
        "id": "ihofIQ_QWscn"
      }
    },
    {
      "cell_type": "code",
      "execution_count": null,
      "metadata": {
        "id": "NIiSs1R5mVJE"
      },
      "outputs": [],
      "source": [
        "model = genai.GenerativeModel(model_name='gemini-1.0-pro',\n",
        "                                  generation_config=generation_config,\n",
        "                                  safety_settings=safety_settings,)"
      ]
    },
    {
      "cell_type": "code",
      "execution_count": null,
      "metadata": {
        "colab": {
          "base_uri": "https://localhost:8080/",
          "height": 35
        },
        "id": "vrRjhT2rlrU_",
        "outputId": "c3f9fd12-cf62-4be8-9010-23edf22b3ba6"
      },
      "outputs": [
        {
          "output_type": "execute_result",
          "data": {
            "text/plain": [
              "'Google'"
            ],
            "application/vnd.google.colaboratory.intrinsic+json": {
              "type": "string"
            }
          },
          "metadata": {},
          "execution_count": 7
        }
      ],
      "source": [
        "response = model.generate_content(\"Que empresa criou o modelo de IA Gemini?\")\n",
        "response.text"
      ]
    },
    {
      "cell_type": "code",
      "execution_count": null,
      "metadata": {
        "colab": {
          "base_uri": "https://localhost:8080/",
          "height": 1000
        },
        "id": "KpaQ6hm5f2_J",
        "outputId": "62a604df-a1a4-4421-b3c2-f98e237109fa"
      },
      "outputs": [
        {
          "name": "stdout",
          "output_type": "stream",
          "text": [
            "Esperando prompt: Qual a sua percepção sobre as mudanças climáticas durante as duas últimas décadas?\n",
            "Resposta: **Percepções sobre as Mudanças Climáticas nas Últimas Duas Décadas**\n",
            "\n",
            "Nas últimas duas décadas, a percepção pública sobre as mudanças climáticas evoluiu significativamente, passando de ceticismo e negação para uma aceitação generalizada da realidade e gravidade do problema.\n",
            "\n",
            "**Aumento da Conscientização e Preocupação:**\n",
            "\n",
            "* As evidências científicas sobre as mudanças climáticas tornaram-se cada vez mais esmagadoras, levando a um aumento da conscientização e preocupação pública.\n",
            "* Eventos climáticos extremos, como furacões, secas e ondas de calor, tornaram-se mais frequentes e intensos, destacando os impactos tangíveis das mudanças climáticas.\n",
            "* A mídia e as redes sociais desempenharam um papel crucial na divulgação de informações sobre as mudanças climáticas e na mobilização da opinião pública.\n",
            "\n",
            "**Mudança nas Atitudes:**\n",
            "\n",
            "* A negação das mudanças climáticas diminuiu significativamente, com a maioria das pessoas agora reconhecendo a realidade do problema.\n",
            "* A preocupação com as mudanças climáticas aumentou, com muitas pessoas expressando ansiedade e preocupação sobre seus impactos futuros.\n",
            "* Há um reconhecimento crescente da necessidade de ação para mitigar e se adaptar às mudanças climáticas.\n",
            "\n",
            "**Implicações Políticas:**\n",
            "\n",
            "* A mudança nas percepções públicas levou a uma maior pressão política para abordar as mudanças climáticas.\n",
            "* Os governos estão respondendo com políticas e regulamentações destinadas a reduzir as emissões de gases de efeito estufa e promover a transição para energias renováveis.\n",
            "* A cooperação internacional sobre as mudanças climáticas também aumentou, com o Acordo de Paris sendo um exemplo notável.\n",
            "\n",
            "**Desafios:**\n",
            "\n",
            "* Apesar do progresso significativo, ainda existem desafios na percepção pública das mudanças climáticas.\n",
            "* Alguns grupos continuam a expressar ceticismo ou negação, o que pode dificultar a ação coletiva.\n",
            "* A politização das mudanças climáticas pode polarizar as opiniões e dificultar a busca de soluções baseadas em evidências.\n",
            "\n",
            "**Conclusão:**\n",
            "\n",
            "Nas últimas duas décadas, as percepções públicas sobre as mudanças climáticas mudaram drasticamente. A conscientização e a preocupação aumentaram, as atitudes mudaram e a ação política foi impulsionada. No entanto, ainda existem desafios a serem superados para garantir que a sociedade responda adequadamente a esta crise global. \n",
            "\n",
            "\n",
            "Esperando prompt: como inserir um dataset para análise no Gemini AI Studio?\n",
            "Resposta: **Como Inserir um Dataset para Análise no Gemini AI Studio**\n",
            "\n",
            "**1. Crie um Projeto:**\n",
            "\n",
            "* Faça login no Gemini AI Studio (https://studio.gemini.com).\n",
            "* Clique em \"Novo Projeto\" e forneça um nome e uma descrição para o seu projeto.\n",
            "\n",
            "**2. Importe o Dataset:**\n",
            "\n",
            "* No painel esquerdo, clique em \"Dados\".\n",
            "* Clique em \"Importar Dados\".\n",
            "* Selecione a fonte do seu dataset (por exemplo, arquivo local, URL, banco de dados).\n",
            "* Siga as instruções na tela para importar o dataset.\n",
            "\n",
            "**3. Visualize o Dataset:**\n",
            "\n",
            "* Depois que o dataset for importado, ele aparecerá na lista de datasets no painel esquerdo.\n",
            "* Clique no nome do dataset para visualizá-lo.\n",
            "* Você pode visualizar os dados em uma tabela, gráfico ou mapa.\n",
            "\n",
            "**4. Prepare os Dados para Análise:**\n",
            "\n",
            "* Se necessário, você pode preparar os dados para análise usando o Editor de Dados do Gemini.\n",
            "* Isso pode incluir limpeza de dados, transformação e engenharia de recursos.\n",
            "\n",
            "**5. Crie um Notebook:**\n",
            "\n",
            "* No painel esquerdo, clique em \"Notebooks\".\n",
            "* Clique em \"Novo Notebook\".\n",
            "* Forneça um nome para o notebook.\n",
            "\n",
            "**6. Carregue o Dataset no Notebook:**\n",
            "\n",
            "* No notebook, use o seguinte código para carregar o dataset:\n",
            "\n",
            "```\n",
            "import pandas as pd\n",
            "\n",
            "dataset = pd.read_csv(\"path/to/dataset.csv\")\n",
            "```\n",
            "\n",
            "**7. Analise os Dados:**\n",
            "\n",
            "* Use as ferramentas e bibliotecas do notebook para analisar os dados.\n",
            "* Você pode criar visualizações, aplicar algoritmos de aprendizado de máquina ou executar outras análises.\n",
            "\n",
            "**Dicas:**\n",
            "\n",
            "* Certifique-se de que o dataset seja compatível com o Gemini AI Studio.\n",
            "* Se o dataset for grande, considere usar o BigQuery para importação e análise.\n",
            "* Use o Editor de Dados para preparar os dados de forma eficiente.\n",
            "* Compartilhe seu notebook com outras pessoas para colaboração. \n",
            "\n",
            "\n",
            "Esperando prompt: quais os formatos de bancos de dados que o Gemini aceita?\n",
            "Resposta: O Gemini AI Studio aceita os seguintes formatos de banco de dados:\n",
            "\n",
            "* **Bancos de dados relacionais:**\n",
            "    * MySQL\n",
            "    * PostgreSQL\n",
            "    * Microsoft SQL Server\n",
            "    * Oracle Database\n",
            "* **Bancos de dados NoSQL:**\n",
            "    * MongoDB\n",
            "    * Apache Cassandra\n",
            "    * Redis\n",
            "* **Data Warehouses:**\n",
            "    * Google BigQuery\n",
            "    * Amazon Redshift\n",
            "    * Snowflake\n",
            "\n",
            "Você pode se conectar a esses bancos de dados usando o conector JDBC ou ODBC do Gemini.\n",
            "\n",
            "**Como se conectar a um banco de dados no Gemini:**\n",
            "\n",
            "1. No painel esquerdo, clique em \"Dados\".\n",
            "2. Clique em \"Importar Dados\".\n",
            "3. Selecione \"Banco de Dados\" como a fonte de dados.\n",
            "4. Selecione o tipo de banco de dados e forneça as informações de conexão necessárias.\n",
            "5. Clique em \"Conectar\".\n",
            "\n",
            "Depois de se conectar ao banco de dados, você pode importar tabelas ou executar consultas diretamente no notebook.\n",
            "\n",
            "**Observações:**\n",
            "\n",
            "* O Gemini oferece suporte a autenticação básica e OAuth2 para bancos de dados relacionais.\n",
            "* Para bancos de dados NoSQL, o Gemini oferece suporte a autenticação de chave de API.\n",
            "* O Gemini não oferece suporte à importação de arquivos de banco de dados (por exemplo, arquivos .sql). \n",
            "\n",
            "\n",
            "Esperando prompt: É possível carregar bancos de dados do tipo \".csv\" ou \".dbf\"?\n",
            "Resposta: Sim, é possível carregar bancos de dados do tipo \".csv\" ou \".dbf\" no Gemini AI Studio.\n",
            "\n",
            "**Carregando arquivos \".csv\":**\n",
            "\n",
            "* No painel esquerdo, clique em \"Dados\".\n",
            "* Clique em \"Importar Dados\".\n",
            "* Selecione \"Arquivo\" como a fonte de dados.\n",
            "* Selecione o arquivo \".csv\" que você deseja importar.\n",
            "* Clique em \"Importar\".\n",
            "\n",
            "**Carregando arquivos \".dbf\":**\n",
            "\n",
            "* Os arquivos \".dbf\" não são suportados diretamente pelo Gemini AI Studio. No entanto, você pode convertê-los para o formato \".csv\" usando uma ferramenta externa, como o Microsoft Excel ou o LibreOffice Calc.\n",
            "* Depois de converter o arquivo \".dbf\" para \".csv\", você pode importá-lo para o Gemini AI Studio seguindo as etapas acima.\n",
            "\n",
            "**Observações:**\n",
            "\n",
            "* Certifique-se de que os arquivos \".csv\" ou \".dbf\" estejam no formato correto e não contenham erros.\n",
            "* O Gemini AI Studio oferece suporte a arquivos \".csv\" com delimitadores de vírgula (\",\") ou ponto e vírgula (\";\").\n",
            "* Os arquivos \".dbf\" devem estar no formato dBASE III ou IV.\n",
            "\n",
            "Depois de importar os dados, você pode visualizá-los, prepará-los e analisá-los usando as ferramentas e bibliotecas do Gemini AI Studio. \n",
            "\n",
            "\n",
            "Esperando prompt: qual o maior tamanho de bancos de dados o Gemini é capaz de carregar e possibilitar análises?\n",
            "Resposta: O tamanho máximo de banco de dados que o Gemini AI Studio pode carregar e possibilitar análises depende de vários fatores, incluindo:\n",
            "\n",
            "* **Tipo de banco de dados:** Os bancos de dados relacionais geralmente têm limites de tamanho maiores do que os bancos de dados NoSQL.\n",
            "* **Recursos do cluster:** Os clusters do Gemini AI Studio vêm com diferentes quantidades de memória e armazenamento.\n",
            "* **Formato dos dados:** Os dados compactados ocupam menos espaço do que os dados não compactados.\n",
            "\n",
            "Em geral, o Gemini AI Studio pode lidar com bancos de dados com centenas de gigabytes a vários terabytes de tamanho. No entanto, é importante observar que o desempenho das análises pode diminuir à medida que o tamanho do banco de dados aumenta.\n",
            "\n",
            "**Limites específicos:**\n",
            "\n",
            "* **Bancos de dados relacionais:** Os clusters do Gemini AI Studio podem lidar com bancos de dados relacionais de até 1 TB de tamanho.\n",
            "* **Bancos de dados NoSQL:** Os clusters do Gemini AI Studio podem lidar com bancos de dados NoSQL de até 500 GB de tamanho.\n",
            "\n",
            "**Recomendações:**\n",
            "\n",
            "* Se você tiver um banco de dados muito grande, considere dividi-lo em partes menores ou usar técnicas de amostragem.\n",
            "* Use formatos de dados compactados para reduzir o tamanho do banco de dados.\n",
            "* Otimize suas consultas para melhorar o desempenho.\n",
            "\n",
            "Se você não tiver certeza se o seu banco de dados é muito grande para o Gemini AI Studio, entre em contato com a equipe de suporte do Gemini para obter orientação. \n",
            "\n",
            "\n",
            "Esperando prompt: fim\n"
          ]
        }
      ],
      "source": [
        "chat = model.start_chat(history=[])\n",
        "\n",
        "prompt = input('Esperando prompt: ')\n",
        "#Melhorando a visualização\n",
        "#Código disponível em https://ai.google.dev/tutorials/python_quickstart#import_packages\n",
        "import textwrap\n",
        "from IPython.display import display\n",
        "from IPython.display import Markdown\n",
        "\n",
        "def to_markdown(text):\n",
        "  text = text.replace('•', '  *')\n",
        "  return Markdown(textwrap.indent(text, '> ', predicate=lambda _: True))\n",
        "\n",
        "#Imprimindo o histórico\n",
        "for message in chat.history:\n",
        "  display(to_markdown(f'**{message.role}**: {message.parts[0].text}'))\n",
        "  print('-------------------------------------------')\n",
        "\n",
        "while prompt != \"fim\":\n",
        "  response = chat.send_message(prompt)\n",
        "  print(\"Resposta:\", response.text, '\\n\\n')\n",
        "  prompt = input('Esperando prompt: ')"
      ]
    },
    {
      "cell_type": "code",
      "execution_count": null,
      "metadata": {
        "id": "XLAniTTDhHNW",
        "colab": {
          "base_uri": "https://localhost:8080/"
        },
        "outputId": "f0b0fcc0-e746-4da9-a2f2-2e3cc021fde8"
      },
      "outputs": [
        {
          "output_type": "execute_result",
          "data": {
            "text/plain": [
              "ChatSession(\n",
              "    model=genai.GenerativeModel(\n",
              "        model_name='models/gemini-1.0-pro',\n",
              "        generation_config={'candidate_count': 1, 'temperature': 0.5},\n",
              "        safety_settings={<HarmCategory.HARM_CATEGORY_HATE_SPEECH: 8>: <HarmBlockThreshold.BLOCK_NONE: 4>, <HarmCategory.HARM_CATEGORY_HARASSMENT: 7>: <HarmBlockThreshold.BLOCK_NONE: 4>, <HarmCategory.HARM_CATEGORY_SEXUALLY_EXPLICIT: 9>: <HarmBlockThreshold.BLOCK_NONE: 4>, <HarmCategory.HARM_CATEGORY_DANGEROUS_CONTENT: 10>: <HarmBlockThreshold.BLOCK_NONE: 4>},\n",
              "        tools=None,\n",
              "        system_instruction=None,\n",
              "    ),\n",
              "    history=[glm.Content({'parts': [{'text': 'Qual a sua p...imas décadas?'}], 'role': 'user'}), glm.Content({'parts': [{'text': '**Percepções...crise global.'}], 'role': 'model'}), glm.Content({'parts': [{'text': 'como inserir...ni AI Studio?'}], 'role': 'user'}), glm.Content({'parts': [{'text': '**Como Inser... colaboração.'}], 'role': 'model'}), glm.Content({'parts': [{'text': 'quais os for...emini aceita?'}], 'role': 'user'}), glm.Content({'parts': [{'text': 'O Gemini AI ...quivos .sql).'}], 'role': 'model'}), glm.Content({'parts': [{'text': 'É possível c...v\" ou \".dbf\"?'}], 'role': 'user'}), glm.Content({'parts': [{'text': 'Sim, é possí...ni AI Studio.'}], 'role': 'model'}), glm.Content({'parts': [{'text': 'qual o maior...tar análises?'}], 'role': 'user'}), glm.Content({'parts': [{'text': 'O tamanho má...r orientação.'}], 'role': 'model'})]\n",
              ")"
            ]
          },
          "metadata": {},
          "execution_count": 9
        }
      ],
      "source": [
        "chat"
      ]
    },
    {
      "cell_type": "code",
      "execution_count": null,
      "metadata": {
        "id": "sd8mvW9KghTf",
        "colab": {
          "base_uri": "https://localhost:8080/"
        },
        "outputId": "96c96389-32dd-4e5d-8bec-7a160c6074a9"
      },
      "outputs": [
        {
          "output_type": "execute_result",
          "data": {
            "text/plain": [
              "[parts {\n",
              "   text: \"Que dia \\303\\251 hoje?\"\n",
              " }\n",
              " role: \"user\",\n",
              " parts {\n",
              "   text: \"N\\303\\243o tenho acesso a informa\\303\\247\\303\\265es em tempo real, portanto n\\303\\243o posso fornecer a data atual.\"\n",
              " }\n",
              " role: \"model\",\n",
              " parts {\n",
              "   text: \"Como inserir tabelas com dados neste chatbot?\"\n",
              " }\n",
              " role: \"user\",\n",
              " parts {\n",
              "   text: \"**M\\303\\251todo 1: Usar o Markdown de Tabelas**\\n\\n* Use o caractere de barra vertical (|) para separar as colunas.\\n* Use o caractere de h\\303\\255fen (-) para criar uma linha divis\\303\\263ria entre as linhas.\\n* Use o caractere de nova linha (\\\\n) para criar uma nova linha.\\n\\n**Exemplo:**\\n\\n```\\n| Nome | Idade |\\n|---|---|\\n| Jo\\303\\243o | 25 |\\n| Maria | 30 |\\n| Pedro | 35 |\\n```\\n\\n**M\\303\\251todo 2: Usar Blocos de C\\303\\263digo**\\n\\n* Inicie um bloco de c\\303\\263digo com tr\\303\\252s crases invertidas (` ``` `).\\n* Especifique a linguagem como \\\"markdown\\\" ou \\\"md\\\".\\n* Cole a tabela em formato Markdown dentro do bloco de c\\303\\263digo.\\n\\n**Exemplo:**\\n\\n```markdown\\n| Nome | Idade |\\n|---|---|\\n| Jo\\303\\243o | 25 |\\n| Maria | 30 |\\n| Pedro | 35 |\\n```\\n\\n**Observa\\303\\247\\303\\265es:**\\n\\n* Certifique-se de que a sintaxe do Markdown esteja correta.\\n* As tabelas inseridas ser\\303\\243o exibidas como texto simples no chatbot.\\n* Os usu\\303\\241rios n\\303\\243o poder\\303\\243o interagir com as tabelas ou classificar os dados.\"\n",
              " }\n",
              " role: \"model\",\n",
              " parts {\n",
              "   text: \"V\\303\\255rus s\\303\\243o seres vivos?\"\n",
              " }\n",
              " role: \"user\",\n",
              " parts {\n",
              "   text: \"N\\303\\243o, os v\\303\\255rus n\\303\\243o s\\303\\243o considerados seres vivos de acordo com a defini\\303\\247\\303\\243o cient\\303\\255fica tradicional. Eles possuem algumas caracter\\303\\255sticas dos seres vivos, como a capacidade de se reproduzir e evoluir, mas carecem de outras caracter\\303\\255sticas essenciais, como c\\303\\251lulas e metabolismo pr\\303\\263prio.\\n\\nAqui est\\303\\243o algumas das principais raz\\303\\265es pelas quais os v\\303\\255rus n\\303\\243o s\\303\\243o considerados seres vivos:\\n\\n* **N\\303\\243o possuem c\\303\\251lulas:** Os v\\303\\255rus s\\303\\243o estruturas muito simples compostas por material gen\\303\\251tico (DNA ou RNA) envolvido por uma camada protetora de prote\\303\\255na. Eles n\\303\\243o possuem c\\303\\251lulas, que s\\303\\243o as unidades b\\303\\241sicas da vida.\\n* **N\\303\\243o t\\303\\252m metabolismo pr\\303\\263prio:** Os v\\303\\255rus n\\303\\243o podem produzir sua pr\\303\\263pria energia ou sintetizar seus pr\\303\\263prios componentes. Eles dependem de c\\303\\251lulas hospedeiras para se replicarem e se espalharem.\\n* **N\\303\\243o podem se reproduzir independentemente:** Os v\\303\\255rus precisam infectar c\\303\\251lulas hospedeiras para se replicarem. Eles n\\303\\243o podem se reproduzir por conta pr\\303\\263pria.\\n* **N\\303\\243o respondem a est\\303\\255mulos:** Os v\\303\\255rus n\\303\\243o respondem a est\\303\\255mulos ambientais como luz ou calor.\\n\\nPortanto, embora os v\\303\\255rus compartilhem algumas semelhan\\303\\247as com os seres vivos, eles n\\303\\243o atendem aos crit\\303\\251rios cient\\303\\255ficos para serem considerados seres vivos. Eles s\\303\\243o classificados como \\\"entidades biol\\303\\263gicas\\\" ou \\\"agentes infecciosos\\\".\"\n",
              " }\n",
              " role: \"model\",\n",
              " parts {\n",
              "   text: \"Quais foram os crit\\303\\251rios cient\\303\\255ficos utilizados para comcluir que os v\\303\\255rus n\\303\\243o s\\303\\243o seres vivos, visto que se reproduzem eat\\303\\251 mesmo, como part\\303\\255culas, s\\303\\243o \\\"imortais\\\"?\"\n",
              " }\n",
              " role: \"user\",\n",
              " parts {\n",
              "   text: \"Os principais crit\\303\\251rios cient\\303\\255ficos utilizados para concluir que os v\\303\\255rus n\\303\\243o s\\303\\243o seres vivos s\\303\\243o:\\n\\n* **Falta de c\\303\\251lulas:** Os v\\303\\255rus n\\303\\243o possuem c\\303\\251lulas, que s\\303\\243o as unidades b\\303\\241sicas da vida. As c\\303\\251lulas s\\303\\243o estruturas complexas que cont\\303\\252m organelas e realizam fun\\303\\247\\303\\265es essenciais para a vida, como metabolismo e reprodu\\303\\247\\303\\243o.\\n* **Falta de metabolismo pr\\303\\263prio:** Os v\\303\\255rus n\\303\\243o podem produzir sua pr\\303\\263pria energia ou sintetizar seus pr\\303\\263prios componentes. Eles dependem de c\\303\\251lulas hospedeiras para se replicarem e se espalharem.\\n* **Incapacidade de se reproduzir independentemente:** Os v\\303\\255rus precisam infectar c\\303\\251lulas hospedeiras para se replicarem. Eles n\\303\\243o podem se reproduzir por conta pr\\303\\263pria, pois n\\303\\243o possuem o maquin\\303\\241rio celular necess\\303\\241rio.\\n* **Falta de resposta a est\\303\\255mulos:** Os v\\303\\255rus n\\303\\243o respondem a est\\303\\255mulos ambientais como luz ou calor. Os seres vivos geralmente exibem algum tipo de resposta a est\\303\\255mulos externos.\\n\\nEmbora os v\\303\\255rus possam se reproduzir, eles n\\303\\243o o fazem de forma independente. Eles precisam infectar c\\303\\251lulas hospedeiras e usar a maquinaria celular para produzir c\\303\\263pias de si mesmos. Esse processo de replica\\303\\247\\303\\243o \\303\\251 parasit\\303\\241rio, pois os v\\303\\255rus sequestram os recursos da c\\303\\251lula hospedeira para seus pr\\303\\263prios fins.\\n\\nO termo \\\"imortal\\\" \\303\\251 usado \\303\\240s vezes para descrever os v\\303\\255rus porque eles podem se replicar indefinidamente, desde que encontrem novas c\\303\\251lulas hospedeiras para infectar. No entanto, essa imortalidade n\\303\\243o \\303\\251 inerente aos pr\\303\\263prios v\\303\\255rus. Ela depende da disponibilidade de c\\303\\251lulas hospedeiras suscet\\303\\255veis.\\n\\nEm resumo, os v\\303\\255rus n\\303\\243o atendem aos crit\\303\\251rios cient\\303\\255ficos para serem considerados seres vivos porque n\\303\\243o possuem c\\303\\251lulas, n\\303\\243o t\\303\\252m metabolismo pr\\303\\263prio, n\\303\\243o podem se reproduzir independentemente e n\\303\\243o respondem a est\\303\\255mulos. Eles s\\303\\243o entidades biol\\303\\263gicas \\303\\272nicas que ocupam um nicho peculiar entre os seres vivos e a mat\\303\\251ria n\\303\\243o viva.\"\n",
              " }\n",
              " role: \"model\",\n",
              " parts {\n",
              "   text: \"Como estes crit\\303\\251rios cient\\303\\255ficos foram validados? N\\303\\243o \\303\\251 poss\\303\\255vel utilizar outros crit\\303\\251rios que tamb\\303\\251m sejam considerados cient\\303\\255ficos?\"\n",
              " }\n",
              " role: \"user\",\n",
              " parts {\n",
              "   text: \"Os crit\\303\\251rios cient\\303\\255ficos utilizados para definir os seres vivos foram validados atrav\\303\\251s de s\\303\\251culos de observa\\303\\247\\303\\243o e experimenta\\303\\247\\303\\243o. Eles s\\303\\243o baseados em um conjunto de caracter\\303\\255sticas comuns que distinguem os organismos vivos da mat\\303\\251ria n\\303\\243o viva.\\n\\nEsses crit\\303\\251rios n\\303\\243o s\\303\\243o absolutos e podem ser refinados \\303\\240 medida que novos conhecimentos s\\303\\243o adquiridos. No entanto, eles fornecem uma base s\\303\\263lida para classificar os organismos e entender as diferen\\303\\247as fundamentais entre os seres vivos e outras entidades.\\n\\n\\303\\211 poss\\303\\255vel utilizar outros crit\\303\\251rios cient\\303\\255ficos para definir os seres vivos, mas eles devem ser consistentes com os crit\\303\\251rios estabelecidos. Por exemplo, alguns cientistas propuseram incluir a capacidade de evoluir como um crit\\303\\251rio para a vida. No entanto, a evolu\\303\\247\\303\\243o \\303\\251 um processo que ocorre ao longo de muitas gera\\303\\247\\303\\265es e pode n\\303\\243o ser aplic\\303\\241vel a entidades como v\\303\\255rus que se replicam rapidamente.\\n\\nEm \\303\\272ltima an\\303\\241lise, a defini\\303\\247\\303\\243o de vida \\303\\251 uma quest\\303\\243o complexa que ainda \\303\\251 debatida pelos cientistas. No entanto, os crit\\303\\251rios cient\\303\\255ficos atuais fornecem uma estrutura \\303\\272til para entender as caracter\\303\\255sticas essenciais dos seres vivos e distinguir entre eles e outras entidades, como v\\303\\255rus.\\n\\nAqui est\\303\\243o alguns exemplos de outros crit\\303\\251rios cient\\303\\255ficos que podem ser considerados:\\n\\n* **Organiza\\303\\247\\303\\243o:** Os seres vivos s\\303\\243o altamente organizados, com estruturas complexas que realizam fun\\303\\247\\303\\265es espec\\303\\255ficas.\\n* **Homeostase:** Os seres vivos mant\\303\\252m um ambiente interno est\\303\\241vel, mesmo quando as condi\\303\\247\\303\\265es externas mudam.\\n* **Crescimento e desenvolvimento:** Os seres vivos crescem e se desenvolvem ao longo do tempo.\\n* **Reprodu\\303\\247\\303\\243o:** Os seres vivos se reproduzem, criando novos indiv\\303\\255duos semelhantes a si mesmos.\\n* **Adapta\\303\\247\\303\\243o:** Os seres vivos se adaptam ao seu ambiente ao longo do tempo, evoluindo novas caracter\\303\\255sticas que lhes permitem sobreviver e se reproduzir.\\n\\nEsses crit\\303\\251rios s\\303\\243o complementares aos crit\\303\\251rios principais mencionados anteriormente e ajudam a fornecer uma compreens\\303\\243o mais abrangente da natureza dos seres vivos.\"\n",
              " }\n",
              " role: \"model\"]"
            ]
          },
          "metadata": {},
          "execution_count": 11
        }
      ],
      "source": [
        "chat.history"
      ]
    },
    {
      "cell_type": "code",
      "execution_count": null,
      "metadata": {
        "id": "dAcbPBocgzeX",
        "colab": {
          "base_uri": "https://localhost:8080/",
          "height": 1000
        },
        "outputId": "fe860d87-660b-4002-d661-b2fe640c1de5"
      },
      "outputs": [
        {
          "output_type": "display_data",
          "data": {
            "text/plain": [
              "<IPython.core.display.Markdown object>"
            ],
            "text/markdown": "> **user**: Qual a sua percepção sobre as mudanças climáticas durante as duas últimas décadas?"
          },
          "metadata": {}
        },
        {
          "output_type": "stream",
          "name": "stdout",
          "text": [
            "-------------------------------------------\n"
          ]
        },
        {
          "output_type": "display_data",
          "data": {
            "text/plain": [
              "<IPython.core.display.Markdown object>"
            ],
            "text/markdown": "> **model**: **Percepções sobre as Mudanças Climáticas nas Últimas Duas Décadas**\n> \n> Nas últimas duas décadas, a percepção pública sobre as mudanças climáticas evoluiu significativamente, passando de ceticismo e negação para uma aceitação generalizada da realidade e gravidade do problema.\n> \n> **Aumento da Conscientização e Preocupação:**\n> \n> * As evidências científicas sobre as mudanças climáticas tornaram-se cada vez mais esmagadoras, levando a um aumento da conscientização e preocupação pública.\n> * Eventos climáticos extremos, como furacões, secas e ondas de calor, tornaram-se mais frequentes e intensos, destacando os impactos tangíveis das mudanças climáticas.\n> * A mídia e as redes sociais desempenharam um papel crucial na divulgação de informações sobre as mudanças climáticas e na mobilização da opinião pública.\n> \n> **Mudança nas Atitudes:**\n> \n> * A negação das mudanças climáticas diminuiu significativamente, com a maioria das pessoas agora reconhecendo a realidade do problema.\n> * A preocupação com as mudanças climáticas aumentou, com muitas pessoas expressando ansiedade e preocupação sobre seus impactos futuros.\n> * Há um reconhecimento crescente da necessidade de ação para mitigar e se adaptar às mudanças climáticas.\n> \n> **Implicações Políticas:**\n> \n> * A mudança nas percepções públicas levou a uma maior pressão política para abordar as mudanças climáticas.\n> * Os governos estão respondendo com políticas e regulamentações destinadas a reduzir as emissões de gases de efeito estufa e promover a transição para energias renováveis.\n> * A cooperação internacional sobre as mudanças climáticas também aumentou, com o Acordo de Paris sendo um exemplo notável.\n> \n> **Desafios:**\n> \n> * Apesar do progresso significativo, ainda existem desafios na percepção pública das mudanças climáticas.\n> * Alguns grupos continuam a expressar ceticismo ou negação, o que pode dificultar a ação coletiva.\n> * A politização das mudanças climáticas pode polarizar as opiniões e dificultar a busca de soluções baseadas em evidências.\n> \n> **Conclusão:**\n> \n> Nas últimas duas décadas, as percepções públicas sobre as mudanças climáticas mudaram drasticamente. A conscientização e a preocupação aumentaram, as atitudes mudaram e a ação política foi impulsionada. No entanto, ainda existem desafios a serem superados para garantir que a sociedade responda adequadamente a esta crise global."
          },
          "metadata": {}
        },
        {
          "output_type": "stream",
          "name": "stdout",
          "text": [
            "-------------------------------------------\n"
          ]
        },
        {
          "output_type": "display_data",
          "data": {
            "text/plain": [
              "<IPython.core.display.Markdown object>"
            ],
            "text/markdown": "> **user**: como inserir um dataset para análise no Gemini AI Studio?"
          },
          "metadata": {}
        },
        {
          "output_type": "stream",
          "name": "stdout",
          "text": [
            "-------------------------------------------\n"
          ]
        },
        {
          "output_type": "display_data",
          "data": {
            "text/plain": [
              "<IPython.core.display.Markdown object>"
            ],
            "text/markdown": "> **model**: **Como Inserir um Dataset para Análise no Gemini AI Studio**\n> \n> **1. Crie um Projeto:**\n> \n> * Faça login no Gemini AI Studio (https://studio.gemini.com).\n> * Clique em \"Novo Projeto\" e forneça um nome e uma descrição para o seu projeto.\n> \n> **2. Importe o Dataset:**\n> \n> * No painel esquerdo, clique em \"Dados\".\n> * Clique em \"Importar Dados\".\n> * Selecione a fonte do seu dataset (por exemplo, arquivo local, URL, banco de dados).\n> * Siga as instruções na tela para importar o dataset.\n> \n> **3. Visualize o Dataset:**\n> \n> * Depois que o dataset for importado, ele aparecerá na lista de datasets no painel esquerdo.\n> * Clique no nome do dataset para visualizá-lo.\n> * Você pode visualizar os dados em uma tabela, gráfico ou mapa.\n> \n> **4. Prepare os Dados para Análise:**\n> \n> * Se necessário, você pode preparar os dados para análise usando o Editor de Dados do Gemini.\n> * Isso pode incluir limpeza de dados, transformação e engenharia de recursos.\n> \n> **5. Crie um Notebook:**\n> \n> * No painel esquerdo, clique em \"Notebooks\".\n> * Clique em \"Novo Notebook\".\n> * Forneça um nome para o notebook.\n> \n> **6. Carregue o Dataset no Notebook:**\n> \n> * No notebook, use o seguinte código para carregar o dataset:\n> \n> ```\n> import pandas as pd\n> \n> dataset = pd.read_csv(\"path/to/dataset.csv\")\n> ```\n> \n> **7. Analise os Dados:**\n> \n> * Use as ferramentas e bibliotecas do notebook para analisar os dados.\n> * Você pode criar visualizações, aplicar algoritmos de aprendizado de máquina ou executar outras análises.\n> \n> **Dicas:**\n> \n> * Certifique-se de que o dataset seja compatível com o Gemini AI Studio.\n> * Se o dataset for grande, considere usar o BigQuery para importação e análise.\n> * Use o Editor de Dados para preparar os dados de forma eficiente.\n> * Compartilhe seu notebook com outras pessoas para colaboração."
          },
          "metadata": {}
        },
        {
          "output_type": "stream",
          "name": "stdout",
          "text": [
            "-------------------------------------------\n"
          ]
        },
        {
          "output_type": "display_data",
          "data": {
            "text/plain": [
              "<IPython.core.display.Markdown object>"
            ],
            "text/markdown": "> **user**: quais os formatos de bancos de dados que o Gemini aceita?"
          },
          "metadata": {}
        },
        {
          "output_type": "stream",
          "name": "stdout",
          "text": [
            "-------------------------------------------\n"
          ]
        },
        {
          "output_type": "display_data",
          "data": {
            "text/plain": [
              "<IPython.core.display.Markdown object>"
            ],
            "text/markdown": "> **model**: O Gemini AI Studio aceita os seguintes formatos de banco de dados:\n> \n> * **Bancos de dados relacionais:**\n>     * MySQL\n>     * PostgreSQL\n>     * Microsoft SQL Server\n>     * Oracle Database\n> * **Bancos de dados NoSQL:**\n>     * MongoDB\n>     * Apache Cassandra\n>     * Redis\n> * **Data Warehouses:**\n>     * Google BigQuery\n>     * Amazon Redshift\n>     * Snowflake\n> \n> Você pode se conectar a esses bancos de dados usando o conector JDBC ou ODBC do Gemini.\n> \n> **Como se conectar a um banco de dados no Gemini:**\n> \n> 1. No painel esquerdo, clique em \"Dados\".\n> 2. Clique em \"Importar Dados\".\n> 3. Selecione \"Banco de Dados\" como a fonte de dados.\n> 4. Selecione o tipo de banco de dados e forneça as informações de conexão necessárias.\n> 5. Clique em \"Conectar\".\n> \n> Depois de se conectar ao banco de dados, você pode importar tabelas ou executar consultas diretamente no notebook.\n> \n> **Observações:**\n> \n> * O Gemini oferece suporte a autenticação básica e OAuth2 para bancos de dados relacionais.\n> * Para bancos de dados NoSQL, o Gemini oferece suporte a autenticação de chave de API.\n> * O Gemini não oferece suporte à importação de arquivos de banco de dados (por exemplo, arquivos .sql)."
          },
          "metadata": {}
        },
        {
          "output_type": "stream",
          "name": "stdout",
          "text": [
            "-------------------------------------------\n"
          ]
        },
        {
          "output_type": "display_data",
          "data": {
            "text/plain": [
              "<IPython.core.display.Markdown object>"
            ],
            "text/markdown": "> **user**: É possível carregar bancos de dados do tipo \".csv\" ou \".dbf\"?"
          },
          "metadata": {}
        },
        {
          "output_type": "stream",
          "name": "stdout",
          "text": [
            "-------------------------------------------\n"
          ]
        },
        {
          "output_type": "display_data",
          "data": {
            "text/plain": [
              "<IPython.core.display.Markdown object>"
            ],
            "text/markdown": "> **model**: Sim, é possível carregar bancos de dados do tipo \".csv\" ou \".dbf\" no Gemini AI Studio.\n> \n> **Carregando arquivos \".csv\":**\n> \n> * No painel esquerdo, clique em \"Dados\".\n> * Clique em \"Importar Dados\".\n> * Selecione \"Arquivo\" como a fonte de dados.\n> * Selecione o arquivo \".csv\" que você deseja importar.\n> * Clique em \"Importar\".\n> \n> **Carregando arquivos \".dbf\":**\n> \n> * Os arquivos \".dbf\" não são suportados diretamente pelo Gemini AI Studio. No entanto, você pode convertê-los para o formato \".csv\" usando uma ferramenta externa, como o Microsoft Excel ou o LibreOffice Calc.\n> * Depois de converter o arquivo \".dbf\" para \".csv\", você pode importá-lo para o Gemini AI Studio seguindo as etapas acima.\n> \n> **Observações:**\n> \n> * Certifique-se de que os arquivos \".csv\" ou \".dbf\" estejam no formato correto e não contenham erros.\n> * O Gemini AI Studio oferece suporte a arquivos \".csv\" com delimitadores de vírgula (\",\") ou ponto e vírgula (\";\").\n> * Os arquivos \".dbf\" devem estar no formato dBASE III ou IV.\n> \n> Depois de importar os dados, você pode visualizá-los, prepará-los e analisá-los usando as ferramentas e bibliotecas do Gemini AI Studio."
          },
          "metadata": {}
        },
        {
          "output_type": "stream",
          "name": "stdout",
          "text": [
            "-------------------------------------------\n"
          ]
        },
        {
          "output_type": "display_data",
          "data": {
            "text/plain": [
              "<IPython.core.display.Markdown object>"
            ],
            "text/markdown": "> **user**: qual o maior tamanho de bancos de dados o Gemini é capaz de carregar e possibilitar análises?"
          },
          "metadata": {}
        },
        {
          "output_type": "stream",
          "name": "stdout",
          "text": [
            "-------------------------------------------\n"
          ]
        },
        {
          "output_type": "display_data",
          "data": {
            "text/plain": [
              "<IPython.core.display.Markdown object>"
            ],
            "text/markdown": "> **model**: O tamanho máximo de banco de dados que o Gemini AI Studio pode carregar e possibilitar análises depende de vários fatores, incluindo:\n> \n> * **Tipo de banco de dados:** Os bancos de dados relacionais geralmente têm limites de tamanho maiores do que os bancos de dados NoSQL.\n> * **Recursos do cluster:** Os clusters do Gemini AI Studio vêm com diferentes quantidades de memória e armazenamento.\n> * **Formato dos dados:** Os dados compactados ocupam menos espaço do que os dados não compactados.\n> \n> Em geral, o Gemini AI Studio pode lidar com bancos de dados com centenas de gigabytes a vários terabytes de tamanho. No entanto, é importante observar que o desempenho das análises pode diminuir à medida que o tamanho do banco de dados aumenta.\n> \n> **Limites específicos:**\n> \n> * **Bancos de dados relacionais:** Os clusters do Gemini AI Studio podem lidar com bancos de dados relacionais de até 1 TB de tamanho.\n> * **Bancos de dados NoSQL:** Os clusters do Gemini AI Studio podem lidar com bancos de dados NoSQL de até 500 GB de tamanho.\n> \n> **Recomendações:**\n> \n> * Se você tiver um banco de dados muito grande, considere dividi-lo em partes menores ou usar técnicas de amostragem.\n> * Use formatos de dados compactados para reduzir o tamanho do banco de dados.\n> * Otimize suas consultas para melhorar o desempenho.\n> \n> Se você não tiver certeza se o seu banco de dados é muito grande para o Gemini AI Studio, entre em contato com a equipe de suporte do Gemini para obter orientação."
          },
          "metadata": {}
        },
        {
          "output_type": "stream",
          "name": "stdout",
          "text": [
            "-------------------------------------------\n"
          ]
        }
      ],
      "source": [
        "#Melhorando a visualização\n",
        "#Código disponível em https://ai.google.dev/tutorials/python_quickstart#import_packages\n",
        "import textwrap\n",
        "from IPython.display import display\n",
        "from IPython.display import Markdown\n",
        "\n",
        "def to_markdown(text):\n",
        "  text = text.replace('•', '  *')\n",
        "  return Markdown(textwrap.indent(text, '> ', predicate=lambda _: True))\n",
        "\n",
        "#Imprimindo o histórico\n",
        "for message in chat.history:\n",
        "  display(to_markdown(f'**{message.role}**: {message.parts[0].text}'))\n",
        "  print('-------------------------------------------')"
      ]
    }
  ],
  "metadata": {
    "colab": {
      "provenance": [],
      "include_colab_link": true
    },
    "kernelspec": {
      "display_name": "Python 3",
      "name": "python3"
    },
    "language_info": {
      "name": "python"
    }
  },
  "nbformat": 4,
  "nbformat_minor": 0
}